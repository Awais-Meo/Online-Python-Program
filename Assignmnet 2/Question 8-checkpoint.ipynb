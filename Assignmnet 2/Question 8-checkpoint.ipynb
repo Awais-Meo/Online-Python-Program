{
 "cells": [
  {
   "cell_type": "code",
   "execution_count": null,
   "id": "e419227f",
   "metadata": {},
   "outputs": [],
   "source": [
    "#Q:8 write a program which take input from user and identify that the given number is even or odd?\n",
    "\n",
    "number = int(input(\"Enter an number\"))\n",
    "remainder = number % 2\n",
    "if (remainder == 0):\n",
    "    print(number,\" is an even Number\")\n",
    "else:\n",
    "    print(number,\" is an odd Number\")"
   ]
  }
 ],
 "metadata": {
  "kernelspec": {
   "display_name": "Python 3",
   "language": "python",
   "name": "python3"
  },
  "language_info": {
   "codemirror_mode": {
    "name": "ipython",
    "version": 3
   },
   "file_extension": ".py",
   "mimetype": "text/x-python",
   "name": "python",
   "nbconvert_exporter": "python",
   "pygments_lexer": "ipython3",
   "version": "3.8.8"
  }
 },
 "nbformat": 4,
 "nbformat_minor": 5
}
