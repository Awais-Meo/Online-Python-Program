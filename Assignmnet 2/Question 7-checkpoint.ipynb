{
 "cells": [
  {
   "cell_type": "code",
   "execution_count": 28,
   "id": "90cda36a",
   "metadata": {},
   "outputs": [
    {
     "name": "stdout",
     "output_type": "stream",
     "text": [
      "Obtained Marks :  289\n",
      "Percentage :  57.8\n",
      "Your Grade is D\n"
     ]
    }
   ],
   "source": [
    "#Q:7 Write a program which takes 5 input from user for different subject's marks, total it and generate mark sheet using grades?\n",
    "\n",
    "English = 54\n",
    "Phyiscs = 46\n",
    "Computer = 71\n",
    "Chemistry = 33\n",
    "Islamiyat = 85\n",
    "Total = 289\n",
    "Obt = English+Phyiscs+Computer+Chemistry+Islamiyat\n",
    "Totalmarks = 500\n",
    "Per= (Obt/500)*100\n",
    "\n",
    "\n",
    "print(\"Obtained Marks : \", Obt)\n",
    "print(\"Percentage : \", Per)\n",
    "\n",
    "if Per >=80 and Per <=100:\n",
    "    print(\"Your Grade is A\")\n",
    "elif Per >=70 and Per <80:\n",
    "    print(\"Your Grade is B\")\n",
    "elif Per >=60 and Per <70:\n",
    "    print(\"Your Grade is C\")\n",
    "elif Per >=50 and Per <60:\n",
    "    print(\"Your Grade is D\")\n",
    "elif Per >=40 and Per <50:\n",
    "    print(\"Your Grade is E\")\n",
    "else:\n",
    "    print(\"Fail\")"
   ]
  },
  {
   "cell_type": "code",
   "execution_count": null,
   "id": "7eb3430d",
   "metadata": {},
   "outputs": [],
   "source": []
  }
 ],
 "metadata": {
  "kernelspec": {
   "display_name": "Python 3",
   "language": "python",
   "name": "python3"
  },
  "language_info": {
   "codemirror_mode": {
    "name": "ipython",
    "version": 3
   },
   "file_extension": ".py",
   "mimetype": "text/x-python",
   "name": "python",
   "nbconvert_exporter": "python",
   "pygments_lexer": "ipython3",
   "version": "3.8.8"
  }
 },
 "nbformat": 4,
 "nbformat_minor": 5
}
