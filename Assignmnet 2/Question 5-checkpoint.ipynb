{
 "cells": [
  {
   "cell_type": "code",
   "execution_count": 2,
   "id": "18312023",
   "metadata": {},
   "outputs": [
    {
     "name": "stdout",
     "output_type": "stream",
     "text": [
      "Enter your first name : Awais\n",
      "Enter your last name : Muhammad\n",
      "Your name in reverse = Muhammad Awais\n"
     ]
    }
   ],
   "source": [
    "#Q:5 Write a Python program which accepts the user's first and last name and print them in reverse order with a space between them.\n",
    "\n",
    "fname = input(\"Enter your first name : \")\n",
    "lname = input(\"Enter your last name : \")\n",
    "print(\"Your name in reverse = \"+lname+\" \"+fname)"
   ]
  },
  {
   "cell_type": "code",
   "execution_count": null,
   "id": "c99109d4",
   "metadata": {},
   "outputs": [],
   "source": []
  }
 ],
 "metadata": {
  "kernelspec": {
   "display_name": "Python 3",
   "language": "python",
   "name": "python3"
  },
  "language_info": {
   "codemirror_mode": {
    "name": "ipython",
    "version": 3
   },
   "file_extension": ".py",
   "mimetype": "text/x-python",
   "name": "python",
   "nbconvert_exporter": "python",
   "pygments_lexer": "ipython3",
   "version": "3.8.8"
  }
 },
 "nbformat": 4,
 "nbformat_minor": 5
}
