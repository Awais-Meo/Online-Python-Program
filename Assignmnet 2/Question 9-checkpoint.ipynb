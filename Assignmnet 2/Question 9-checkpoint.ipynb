{
 "cells": [
  {
   "cell_type": "code",
   "execution_count": 4,
   "id": "6e757967",
   "metadata": {},
   "outputs": [
    {
     "name": "stdout",
     "output_type": "stream",
     "text": [
      "[1, 3, 5, 6, 8, 9, 10, 13, 15]\n",
      "Length f list is: 9\n"
     ]
    }
   ],
   "source": [
    "#Q:9 write a program which print the length of the list?\n",
    "\n",
    "mylist=[1,3,5,6,8,9,10,13,15]\n",
    "print(mylist)\n",
    "\n",
    "count=0\n",
    "\n",
    "for i in mylist:\n",
    "    count=count+1\n",
    "print(\"Length f list is:\",count)"
   ]
  },
  {
   "cell_type": "code",
   "execution_count": null,
   "id": "82dc6950",
   "metadata": {},
   "outputs": [],
   "source": []
  }
 ],
 "metadata": {
  "kernelspec": {
   "display_name": "Python 3",
   "language": "python",
   "name": "python3"
  },
  "language_info": {
   "codemirror_mode": {
    "name": "ipython",
    "version": 3
   },
   "file_extension": ".py",
   "mimetype": "text/x-python",
   "name": "python",
   "nbconvert_exporter": "python",
   "pygments_lexer": "ipython3",
   "version": "3.8.8"
  }
 },
 "nbformat": 4,
 "nbformat_minor": 5
}
